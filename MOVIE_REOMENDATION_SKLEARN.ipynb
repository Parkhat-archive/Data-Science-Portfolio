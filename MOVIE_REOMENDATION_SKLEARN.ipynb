{
  "nbformat": 4,
  "nbformat_minor": 0,
  "metadata": {
    "colab": {
      "name": "MOVIE_REOMENDATION_SKLEARN",
      "provenance": [],
      "authorship_tag": "ABX9TyNla7ptJN/yXvzRE4zcDelE",
      "include_colab_link": true
    },
    "kernelspec": {
      "name": "python3",
      "display_name": "Python 3"
    }
  },
  "cells": [
    {
      "cell_type": "markdown",
      "metadata": {
        "id": "view-in-github",
        "colab_type": "text"
      },
      "source": [
        "<a href=\"https://colab.research.google.com/github/Parkhat-archive/Data-Science-Portfolio/blob/master/MOVIE_REOMENDATION_SKLEARN.ipynb\" target=\"_parent\"><img src=\"https://colab.research.google.com/assets/colab-badge.svg\" alt=\"Open In Colab\"/></a>"
      ]
    },
    {
      "cell_type": "code",
      "metadata": {
        "id": "HGemn0EeXuLe",
        "colab_type": "code",
        "colab": {}
      },
      "source": [
        "import pandas as pd\n",
        "import numpy as np\n",
        "from sklearn.feature_extraction.text import CountVectorizer\n",
        "from sklearn.metrics.pairwise import cosine_similarity\n",
        "\n",
        "def get_title_from_index(index):\n",
        "\treturn df[df.index == index][\"title\"].values[0]\n",
        "\n",
        "def get_index_from_title(title):\n",
        "\treturn df[df.title == title][\"index\"].values[0]\n",
        "\n",
        "\n",
        "\n",
        "df = pd.read_csv(\"movie_dataset.csv\")\n",
        "#print df.columns\n",
        "\n",
        "\n",
        "features = ['keywords','cast','genres','director']\n",
        "\n",
        "for feature in features:\n",
        "\tdf[feature] = df[feature].fillna('')\n",
        "\n",
        "def combine_features(row):\n",
        "\ttry:\n",
        "\t\treturn row['keywords'] +\" \"+row['cast']+\" \"+row[\"genres\"]+\" \"+row[\"director\"]\n",
        "\texcept:\n",
        "\t\tprint \"Error:\", row\t\n",
        "\n",
        "df[\"combined_features\"] = df.apply(combine_features,axis=1)\n",
        "\n",
        "#print \"Combined Features:\", df[\"combined_features\"].head()\n",
        "\n",
        "cv = CountVectorizer()\n",
        "\n",
        "count_matrix = cv.fit_transform(df[\"combined_features\"])\n",
        "\n",
        "cosine_sim = cosine_similarity(count_matrix) \n",
        "movie_user_likes = \"Avatar\"\n",
        "\n",
        "movie_index = get_index_from_title(movie_user_likes)\n",
        "\n",
        "similar_movies =  list(enumerate(cosine_sim[movie_index]))\n",
        "\n",
        "sorted_similar_movies = sorted(similar_movies,key=lambda x:x[1],reverse=True)\n",
        "\n",
        "i=0\n",
        "for element in sorted_similar_movies:\n",
        "\t\tprint get_title_from_index(element[0])\n",
        "\t\ti=i+1\n",
        "\t\tif i>50:\n",
        "\t\t\tbreak"
      ],
      "execution_count": null,
      "outputs": []
    }
  ]
}