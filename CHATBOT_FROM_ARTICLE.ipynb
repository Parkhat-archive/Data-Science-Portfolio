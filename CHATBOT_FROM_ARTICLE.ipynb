{
  "nbformat": 4,
  "nbformat_minor": 0,
  "metadata": {
    "colab": {
      "name": "CHATBOT 3.0",
      "provenance": [],
      "collapsed_sections": [],
      "authorship_tag": "ABX9TyNMQETRWSIEsBuLHSkYAGUb",
      "include_colab_link": true
    },
    "kernelspec": {
      "name": "python3",
      "display_name": "Python 3"
    }
  },
  "cells": [
    {
      "cell_type": "markdown",
      "metadata": {
        "id": "view-in-github",
        "colab_type": "text"
      },
      "source": [
        "<a href=\"https://colab.research.google.com/github/Parkhat-archive/Data-Science-Portfolio/blob/master/CHATBOT_3_0.ipynb\" target=\"_parent\"><img src=\"https://colab.research.google.com/assets/colab-badge.svg\" alt=\"Open In Colab\"/></a>"
      ]
    },
    {
      "cell_type": "code",
      "metadata": {
        "id": "RJvmxIIQk2yw",
        "colab_type": "code",
        "colab": {
          "base_uri": "https://localhost:8080/",
          "height": 51
        },
        "outputId": "c427c0e1-b605-4728-e16f-417e9cca3230"
      },
      "source": [
        "pip install nltk"
      ],
      "execution_count": 15,
      "outputs": [
        {
          "output_type": "stream",
          "text": [
            "Requirement already satisfied: nltk in /usr/local/lib/python3.6/dist-packages (3.2.5)\n",
            "Requirement already satisfied: six in /usr/local/lib/python3.6/dist-packages (from nltk) (1.15.0)\n"
          ],
          "name": "stdout"
        }
      ]
    },
    {
      "cell_type": "code",
      "metadata": {
        "id": "8IOorSQ16YQW",
        "colab_type": "code",
        "colab": {
          "base_uri": "https://localhost:8080/",
          "height": 394
        },
        "outputId": "d07fe21c-7a2a-496a-a716-42002e60ee70"
      },
      "source": [
        "pip install newspaper3k"
      ],
      "execution_count": 16,
      "outputs": [
        {
          "output_type": "stream",
          "text": [
            "Requirement already satisfied: newspaper3k in /usr/local/lib/python3.6/dist-packages (0.2.8)\n",
            "Requirement already satisfied: Pillow>=3.3.0 in /usr/local/lib/python3.6/dist-packages (from newspaper3k) (7.0.0)\n",
            "Requirement already satisfied: tinysegmenter==0.3 in /usr/local/lib/python3.6/dist-packages (from newspaper3k) (0.3)\n",
            "Requirement already satisfied: requests>=2.10.0 in /usr/local/lib/python3.6/dist-packages (from newspaper3k) (2.23.0)\n",
            "Requirement already satisfied: beautifulsoup4>=4.4.1 in /usr/local/lib/python3.6/dist-packages (from newspaper3k) (4.6.3)\n",
            "Requirement already satisfied: nltk>=3.2.1 in /usr/local/lib/python3.6/dist-packages (from newspaper3k) (3.2.5)\n",
            "Requirement already satisfied: cssselect>=0.9.2 in /usr/local/lib/python3.6/dist-packages (from newspaper3k) (1.1.0)\n",
            "Requirement already satisfied: feedparser>=5.2.1 in /usr/local/lib/python3.6/dist-packages (from newspaper3k) (5.2.1)\n",
            "Requirement already satisfied: PyYAML>=3.11 in /usr/local/lib/python3.6/dist-packages (from newspaper3k) (3.13)\n",
            "Requirement already satisfied: python-dateutil>=2.5.3 in /usr/local/lib/python3.6/dist-packages (from newspaper3k) (2.8.1)\n",
            "Requirement already satisfied: tldextract>=2.0.1 in /usr/local/lib/python3.6/dist-packages (from newspaper3k) (2.2.2)\n",
            "Requirement already satisfied: feedfinder2>=0.0.4 in /usr/local/lib/python3.6/dist-packages (from newspaper3k) (0.0.4)\n",
            "Requirement already satisfied: jieba3k>=0.35.1 in /usr/local/lib/python3.6/dist-packages (from newspaper3k) (0.35.1)\n",
            "Requirement already satisfied: lxml>=3.6.0 in /usr/local/lib/python3.6/dist-packages (from newspaper3k) (4.2.6)\n",
            "Requirement already satisfied: idna<3,>=2.5 in /usr/local/lib/python3.6/dist-packages (from requests>=2.10.0->newspaper3k) (2.10)\n",
            "Requirement already satisfied: chardet<4,>=3.0.2 in /usr/local/lib/python3.6/dist-packages (from requests>=2.10.0->newspaper3k) (3.0.4)\n",
            "Requirement already satisfied: urllib3!=1.25.0,!=1.25.1,<1.26,>=1.21.1 in /usr/local/lib/python3.6/dist-packages (from requests>=2.10.0->newspaper3k) (1.24.3)\n",
            "Requirement already satisfied: certifi>=2017.4.17 in /usr/local/lib/python3.6/dist-packages (from requests>=2.10.0->newspaper3k) (2020.6.20)\n",
            "Requirement already satisfied: six in /usr/local/lib/python3.6/dist-packages (from nltk>=3.2.1->newspaper3k) (1.15.0)\n",
            "Requirement already satisfied: requests-file>=1.4 in /usr/local/lib/python3.6/dist-packages (from tldextract>=2.0.1->newspaper3k) (1.5.1)\n",
            "Requirement already satisfied: setuptools in /usr/local/lib/python3.6/dist-packages (from tldextract>=2.0.1->newspaper3k) (49.1.0)\n"
          ],
          "name": "stdout"
        }
      ]
    },
    {
      "cell_type": "code",
      "metadata": {
        "id": "n2idNCg-DB7c",
        "colab_type": "code",
        "colab": {}
      },
      "source": [
        "from newspaper import Article\n",
        "import random\n",
        "import string\n",
        "from sklearn.feature_extraction.text import TfidfVectorizer\n",
        "from sklearn.metrics.pairwise import cosine_similarity\n",
        "import nltk\n",
        "import numpy as np\n",
        "import warnings"
      ],
      "execution_count": 17,
      "outputs": []
    },
    {
      "cell_type": "code",
      "metadata": {
        "id": "OQXUJMwbD2BT",
        "colab_type": "code",
        "colab": {}
      },
      "source": [
        "#ignore any warning messages\n",
        "warnings.filterwarnings('ignore')"
      ],
      "execution_count": 18,
      "outputs": []
    },
    {
      "cell_type": "code",
      "metadata": {
        "id": "CimOYC7lEHXV",
        "colab_type": "code",
        "colab": {
          "base_uri": "https://localhost:8080/",
          "height": 34
        },
        "outputId": "316395d1-9c27-4595-e9d5-045208a0fdd1"
      },
      "source": [
        "nltk.download('punkt', quiet=True)\n",
        "nltk.download('wordnet', quiet=True)"
      ],
      "execution_count": 19,
      "outputs": [
        {
          "output_type": "execute_result",
          "data": {
            "text/plain": [
              "True"
            ]
          },
          "metadata": {
            "tags": []
          },
          "execution_count": 19
        }
      ]
    },
    {
      "cell_type": "code",
      "metadata": {
        "id": "3F5uPG9IEgy4",
        "colab_type": "code",
        "colab": {
          "base_uri": "https://localhost:8080/",
          "height": 938
        },
        "outputId": "aeed58af-0961-4642-fb19-22818beebb4b"
      },
      "source": [
        "#Get the article URL\n",
        "article=Article('https://www.britannica.com/biography/Kemal-Ataturk')\n",
        "article.download()\n",
        "article.parse()\n",
        "article.nlp()\n",
        "\n",
        "corpus=article.text\n",
        "\n",
        "print(corpus)"
      ],
      "execution_count": 20,
      "outputs": [
        {
          "output_type": "stream",
          "text": [
            "One of the great figures of the 20th century, Atatürk rescued the surviving Turkish remnant of the defeated Ottoman Empire at the end of World War I . He galvanized his people against invading Greek forces who sought to impose the Allied will upon the war-weary Turks and repulsed aggression by British, French, and Italian troops. Through these struggles, he founded the modern Republic of Turkey, for which he is still revered by the Turks. He succeeded in restoring to his people pride in their Turkishness, coupled with a new sense of accomplishment as their nation was brought into the modern world. Over the next two decades, Atatürk created a modern state that would grow under his successors into a viable democracy . (For a more complete discussion of this period in Turkish history, see Turkey, history of: The emergence of the modern Turkish state .)\n",
            "\n",
            "Aside from being the founder of modern Turkey , Kemal Atatürk laid the groundwork for Turkey’s state ideology, known as Kemalism. Its principles are republicanism , nationalism, populism , statism (state-controlled economic development), secularism , and revolution (continual change in state and society), which were enshrined in the Turkish constitution in 1937.\n",
            "\n",
            "Kemal Atatürk became a national hero after turning back the Allies at Gallipoli during World War I. Still, the Ottomans were defeated. To prevent partition of Anatolia , he led a rebellion against the sultanate. In 1923 the sovereignty of the Turkish Republic was internationally recognized with the Treaty of Lausanne . Atatürk became its first president.\n",
            "\n",
            "Kemal Atatürk’s father, a local lieutenant in the Russo-Turkish War of 1877–78, dedicated him to military service and sent him to a modern secular school (rather than a religious school). Atatürk attended a military school for his secondary education and afterward entered the War College in Constantinople , followed by the General Staff College.\n",
            "\n",
            "Kemal Atatürk was founder and first president of the Republic of Turkey , having galvanized the Turkish people after the defeat of the Ottoman Empire in World War I . He implemented an ambitious program of modernization and broadly transformed the legal and social systems of Turkish life.\n",
            "\n",
            "Kemal Atatürk , (Turkish: “Kemal, Father of Turks”)original name Mustafa Kemal, also called Mustafa Kemal Paşa , (born 1881, Salonika [now Thessaloníki], Greece—died November 10, 1938, Istanbul , Turkey), soldier, statesman, and reformer who was the founder and first president (1923–38) of the Republic of Turkey . He modernized the country’s legal and educational systems and encouraged the adoption of a European way of life, with Turkish written in the Latin alphabet and with citizens adopting European-style names.\n",
            "\n",
            "There was a good deal of political dissent in the air at the War College, directed against the despotism of Sultan Abdülhamid II . Mustafa Kemal remained aloof from it until his third year, when he became involved in the production of a clandestine newspaper. His activities were uncovered, but he was allowed to complete the course, graduating as a second lieutenant in 1902 and ranking in the top 10 of his class of more than 450 students. He then entered the General Staff College, graduating in 1905 as a captain and ranking fifth out of a class of 57; he was one of the empire’s leading young officers.\n",
            "\n",
            "Having completed his education at Monastir, Mustafa Kemal entered the War College in Istanbul in March 1899. He enjoyed the freedom and sophistication of the city, to which he was introduced by his new friend and classmate Ali Fuat (Cebesoy).\n",
            "\n",
            "At the secondary school, Mustafa received the nickname of Kemal, meaning “The Perfect One,” from his mathematics teacher; he was thereafter known as Mustafa Kemal. In 1895 he progressed to the military school in Monastir (now Bitola , North Macedonia ). He made several new friends, including Ali Fethi (Okyar), who would later join him in the creation and development of the Turkish republic.\n",
            "\n",
            "After Ali Riza’s death, Zübeyde Hanım moved to her step-brother’s farm outside Salonika . Concerned that Mustafa might grow up uneducated, she sent him back to Salonika, where he enrolled in a secular school that would have prepared him for a bureaucratic career. Mustafa became enamoured of the uniforms worn by the military cadets in his neighbourhood. He determined to enter upon a military career. Against his mother’s wishes, Mustafa took the examination for entrance to the military secondary school.\n",
            "\n",
            "Ali Riza died when Mustafa was seven years old, but he nevertheless had a significant influence on the development of his son’s personality. At Mustafa’s birth, Ali Riza hung his sword over his son’s cradle, dedicating him to military service. Most important, Ali Riza saw to it that his son’s earliest education was carried out in a modern secular school, rather than in the religious school Zübeyde Hanım would have preferred. In this way Ali Riza set his son on the path of modernization. This was something for which Mustafa always felt indebted to his father.\n",
            "\n",
            "Atatürk was born in 1881 in Salonika, then a thriving port of the Ottoman Empire , and was given the name Mustafa. His father, Ali Riza, had been a lieutenant in a local militia unit during the Russo-Turkish War of 1877–78, indicating that his origins were within the Ottoman ruling class, if only marginally. Mustafa’s mother, Zübeyde Hanım, came from a farming community west of Salonika.\n",
            "\n",
            "Military career\n",
            "\n",
            "Mustafa Kemal’s career almost ended soon after his graduation when it was discovered that he and several friends were meeting to read about and discuss political abuses within the empire. A government spy infiltrated their group and informed on them. A cloud of suspicion hung over their heads that was not to be lifted for years. The group was broken up and its members assigned to remote areas of the empire. Mustafa Kemal and Ali Faut were sent to the Fifth Army in Damascus, where Mustafa Kemal was angered by the way corrupt officials were treating the local people. Becoming involved again in antigovernment activities, he helped found a short-lived secret group called the Society for Fatherland and Freedom.\n",
            "\n",
            "Nevertheless, in September 1907 Mustafa Kemal was declared loyal and reassigned to Salonika, which was awash with subversive activity. He joined the dominant antigovernment group, the Committee of Union and Progress (CUP), which had ties to the nationalist and reformist Young Turk movement.\n",
            "\n",
            "In July 1908 an insurrection broke out in Macedonia. The sultan was forced to reinstate the constitution of 1876, which limited his powers and reestablished a representative government. The hero of this “Young Turk Revolution” was Enver (Enver Paşa), who later became Mustafa Kemal’s greatest rival; the two men came to dislike each other thoroughly.\n",
            "\n",
            "In 1909 two elements within the revolutionary movement came to the fore. One group favoured decentralization, with harmony and cooperation between the Muslims and the non-Muslims. The other, headed by the CUP, advocated centralization and Turkish control. An insurrection spearheaded by reactionary troops broke out on the night of April 12–13, 1909. The revolution that had restored the constitution in 1908 was in danger. Military officers and troops from Salonika, among whom Enver played a leading role, marched on Istanbul. They arrived at the capital on April 23, and by the next day they had the situation well in hand. The CUP took control and forced Abdülhamid II to abdicate.\n",
            "\n",
            "Enver was thus in the ascendancy. Mustafa Kemal felt that the military, having gained its political ends, should refrain from interfering in politics. He urged those officers who wanted political careers to resign their commissions. This served only to increase the hostility of Enver and other CUP leaders toward him. Mustafa Kemal turned his attention from politics to military matters. He translated German infantry training manuals into Turkish. From his staff position he criticized the state of the army’s training. His reputation among serious military officers was growing. This activity also brought him into contact with many of the rising young officers. A feeling of mutual respect developed between Mustafa Kemal and some of these officers, who were later to flock to his support in the creation of the Turkish nation.\n",
            "\n",
            "The CUP, however, was fed up with him, and he was transferred to field command and then sent to observe French army maneuvers in Picardy. Although consistently denied promotion, Mustafa Kemal did not lose faith in himself. In late 1911 the Italians attacked Libya, then an Ottoman province, and Mustafa Kemal went there immediately to fight. Malaria and trouble with his eyes required him to leave the front for treatment in Vienna.\n",
            "\n",
            "In October 1912, while Mustafa Kemal was in Vienna, the First Balkan War broke out. He was assigned to the defense of the Gallipoli Peninsula, an area of strategic importance with respect to the Dardanelles. Within two months the Ottoman Empire lost most of its territory in Europe, including Monastir and Salonika, places for which Mustafa Kemal had special affection. Among the refugees who poured into Istanbul were his mother, sister, and stepfather.\n",
            "\n",
            "The Second Balkan War, of short duration (June–July 1913), saw the Ottomans regain part of their lost territory. Relations were renewed with Bulgaria. Mustafa Kemal’s former schoolmate Ali Fethi was named ambassador, and Mustafa Kemal accompanied him to Sofia as military attaché. There he was promoted to lieutenant colonel.\n",
            "\n",
            "Mustafa Kemal complained of Enver’s close ties to Germany and predicted German defeat in an international conflict. Once World War I broke out, however, and the Ottoman Empire entered on the side of the Central Powers, he sought a military command. Enver made him cool his heels in Sofia but finally gave him command of the 19th Division, which was being organized in the Gallipoli Peninsula. It was here that the Allies attempted their ill-fated landings, giving Mustafa Kemal the opportunity to throw them back and thwart their attempt to force the Dardanelles (February 1915–January 1916). During the battle, Mustafa Kemal was hit by a piece of shrapnel, which lodged in the watch he carried in his breast pocket and thus failed to cause him serious injury. His success at Gallipoli thrust Mustafa Kemal onto the world scene. He was hailed as the “Saviour of Istanbul” and was promoted to colonel on June 1, 1915.\n",
            "\n",
            "In 1916 Mustafa Kemal was assigned to the Russian front and promoted to general, acquiring the title of pasha. He was the only Turkish general to win any victories over the Russians on the Eastern Front. Later that year, he took over the command of the Second Army in southeastern Anatolia. There he met Colonel İsmet (İnönü), who would become his closest ally in building the Turkish republic.\n",
            "\n",
            "The outbreak of the Russian Revolution in March 1917 made Mustafa Kemal available for service in the Ottoman provinces of Syria and Iraq, on which the British were advancing from their base in Egypt. He was appointed to the command of the Seventh Army in Syria, but he was appalled by the sad state of the army. Resigning his post, he returned without permission to Istanbul. He was placed on leave for three months and then assigned to accompany Crown Prince Mehmed Vahideddin on a state visit to Germany.\n",
            "\n",
            "On his return to Istanbul, Mustafa Kemal fell ill with kidney problems, most probably related to gonorrhea, which it is believed he had contracted earlier. (His physical problems would later require him to have a personal physician in constant attendance throughout his years as president of the Turkish republic.) He went to Vienna for treatment and then to Carlsbad to recuperate. While he was in Carlsbad, Sultan Mehmed V died, and Vahideddin assumed the throne as Mehmed VI. Mustafa Kemal was recalled to Istanbul in June 1918.\n",
            "\n",
            "Through Enver’s machinations, the sultan assigned Mustafa Kemal to command the collapsing Ottoman forces in Syria. He found the situation there worse than he had imagined and withdrew northward to save the lives of as many of his soldiers as possible.\n",
            "\n",
            "Fighting was halted by the Armistice of Mudros (October 30, 1918). Shortly afterward, Enver and other leaders of the CUP fled to Germany, leaving the sultan to lead the government. To ensure the continuation of his rule, Mehmed VI was willing to cooperate with the Allies, who assumed control of the government.\n"
          ],
          "name": "stdout"
        }
      ]
    },
    {
      "cell_type": "code",
      "metadata": {
        "id": "A5yY09pPFUwf",
        "colab_type": "code",
        "colab": {}
      },
      "source": [
        "#Tokenize\n",
        "text=corpus\n",
        "sent_tokens= nltk.sent_tokenize(text) #converts to the list of sentences\n"
      ],
      "execution_count": 21,
      "outputs": []
    },
    {
      "cell_type": "code",
      "metadata": {
        "id": "GreRI3roFqKV",
        "colab_type": "code",
        "colab": {}
      },
      "source": [
        "#Create a dictionary pair to remove punct\n",
        "remove_punct_dict=dict( (punct,None) for punct in string.punctuation)\n"
      ],
      "execution_count": 22,
      "outputs": []
    },
    {
      "cell_type": "code",
      "metadata": {
        "id": "uxjZLKWIGUBu",
        "colab_type": "code",
        "colab": {
          "base_uri": "https://localhost:8080/",
          "height": 54
        },
        "outputId": "5ec68e05-47cf-4759-e567-9559e49aeeda"
      },
      "source": [
        "#Create a function to returnt lemmatized lowercase words\n",
        "def LemNormalize(text):\n",
        "  return nltk.word_tokenize(text.lower().translate(remove_punct_dict))\n",
        "\n",
        "print(LemNormalize(text))"
      ],
      "execution_count": 23,
      "outputs": [
        {
          "output_type": "stream",
          "text": [
            "['one', 'of', 'the', 'great', 'figures', 'of', 'the', '20th', 'century', ',', 'atatürk', 'rescued', 'the', 'surviving', 'turkish', 'remnant', 'of', 'the', 'defeated', 'ottoman', 'empire', 'at', 'the', 'end', 'of', 'world', 'war', 'i', '.', 'he', 'galvanized', 'his', 'people', 'against', 'invading', 'greek', 'forces', 'who', 'sought', 'to', 'impose', 'the', 'allied', 'will', 'upon', 'the', 'war-weary', 'turks', 'and', 'repulsed', 'aggression', 'by', 'british', ',', 'french', ',', 'and', 'italian', 'troops', '.', 'through', 'these', 'struggles', ',', 'he', 'founded', 'the', 'modern', 'republic', 'of', 'turkey', ',', 'for', 'which', 'he', 'is', 'still', 'revered', 'by', 'the', 'turks', '.', 'he', 'succeeded', 'in', 'restoring', 'to', 'his', 'people', 'pride', 'in', 'their', 'turkishness', ',', 'coupled', 'with', 'a', 'new', 'sense', 'of', 'accomplishment', 'as', 'their', 'nation', 'was', 'brought', 'into', 'the', 'modern', 'world', '.', 'over', 'the', 'next', 'two', 'decades', ',', 'atatürk', 'created', 'a', 'modern', 'state', 'that', 'would', 'grow', 'under', 'his', 'successors', 'into', 'a', 'viable', 'democracy', '.', '(', 'for', 'a', 'more', 'complete', 'discussion', 'of', 'this', 'period', 'in', 'turkish', 'history', ',', 'see', 'turkey', ',', 'history', 'of', ':', 'the', 'emergence', 'of', 'the', 'modern', 'turkish', 'state', '.', ')', 'aside', 'from', 'being', 'the', 'founder', 'of', 'modern', 'turkey', ',', 'kemal', 'atatürk', 'laid', 'the', 'groundwork', 'for', 'turkey', '’', 's', 'state', 'ideology', ',', 'known', 'as', 'kemalism', '.', 'its', 'principles', 'are', 'republicanism', ',', 'nationalism', ',', 'populism', ',', 'statism', '(', 'state-controlled', 'economic', 'development', ')', ',', 'secularism', ',', 'and', 'revolution', '(', 'continual', 'change', 'in', 'state', 'and', 'society', ')', ',', 'which', 'were', 'enshrined', 'in', 'the', 'turkish', 'constitution', 'in', '1937.', 'kemal', 'atatürk', 'became', 'a', 'national', 'hero', 'after', 'turning', 'back', 'the', 'allies', 'at', 'gallipoli', 'during', 'world', 'war', 'i.', 'still', ',', 'the', 'ottomans', 'were', 'defeated', '.', 'to', 'prevent', 'partition', 'of', 'anatolia', ',', 'he', 'led', 'a', 'rebellion', 'against', 'the', 'sultanate', '.', 'in', '1923', 'the', 'sovereignty', 'of', 'the', 'turkish', 'republic', 'was', 'internationally', 'recognized', 'with', 'the', 'treaty', 'of', 'lausanne', '.', 'atatürk', 'became', 'its', 'first', 'president', '.', 'kemal', 'atatürk', '’', 's', 'father', ',', 'a', 'local', 'lieutenant', 'in', 'the', 'russo-turkish', 'war', 'of', '1877–78', ',', 'dedicated', 'him', 'to', 'military', 'service', 'and', 'sent', 'him', 'to', 'a', 'modern', 'secular', 'school', '(', 'rather', 'than', 'a', 'religious', 'school', ')', '.', 'atatürk', 'attended', 'a', 'military', 'school', 'for', 'his', 'secondary', 'education', 'and', 'afterward', 'entered', 'the', 'war', 'college', 'in', 'constantinople', ',', 'followed', 'by', 'the', 'general', 'staff', 'college', '.', 'kemal', 'atatürk', 'was', 'founder', 'and', 'first', 'president', 'of', 'the', 'republic', 'of', 'turkey', ',', 'having', 'galvanized', 'the', 'turkish', 'people', 'after', 'the', 'defeat', 'of', 'the', 'ottoman', 'empire', 'in', 'world', 'war', 'i', '.', 'he', 'implemented', 'an', 'ambitious', 'program', 'of', 'modernization', 'and', 'broadly', 'transformed', 'the', 'legal', 'and', 'social', 'systems', 'of', 'turkish', 'life', '.', 'kemal', 'atatürk', ',', '(', 'turkish', ':', '“', 'kemal', ',', 'father', 'of', 'turks', '”', ')', 'original', 'name', 'mustafa', 'kemal', ',', 'also', 'called', 'mustafa', 'kemal', 'paşa', ',', '(', 'born', '1881', ',', 'salonika', '[', 'now', 'thessaloníki', ']', ',', 'greece—died', 'november', '10', ',', '1938', ',', 'istanbul', ',', 'turkey', ')', ',', 'soldier', ',', 'statesman', ',', 'and', 'reformer', 'who', 'was', 'the', 'founder', 'and', 'first', 'president', '(', '1923–38', ')', 'of', 'the', 'republic', 'of', 'turkey', '.', 'he', 'modernized', 'the', 'country', '’', 's', 'legal', 'and', 'educational', 'systems', 'and', 'encouraged', 'the', 'adoption', 'of', 'a', 'european', 'way', 'of', 'life', ',', 'with', 'turkish', 'written', 'in', 'the', 'latin', 'alphabet', 'and', 'with', 'citizens', 'adopting', 'european-style', 'names', '.', 'there', 'was', 'a', 'good', 'deal', 'of', 'political', 'dissent', 'in', 'the', 'air', 'at', 'the', 'war', 'college', ',', 'directed', 'against', 'the', 'despotism', 'of', 'sultan', 'abdülhamid', 'ii', '.', 'mustafa', 'kemal', 'remained', 'aloof', 'from', 'it', 'until', 'his', 'third', 'year', ',', 'when', 'he', 'became', 'involved', 'in', 'the', 'production', 'of', 'a', 'clandestine', 'newspaper', '.', 'his', 'activities', 'were', 'uncovered', ',', 'but', 'he', 'was', 'allowed', 'to', 'complete', 'the', 'course', ',', 'graduating', 'as', 'a', 'second', 'lieutenant', 'in', '1902', 'and', 'ranking', 'in', 'the', 'top', '10', 'of', 'his', 'class', 'of', 'more', 'than', '450', 'students', '.', 'he', 'then', 'entered', 'the', 'general', 'staff', 'college', ',', 'graduating', 'in', '1905', 'as', 'a', 'captain', 'and', 'ranking', 'fifth', 'out', 'of', 'a', 'class', 'of', '57', ';', 'he', 'was', 'one', 'of', 'the', 'empire', '’', 's', 'leading', 'young', 'officers', '.', 'having', 'completed', 'his', 'education', 'at', 'monastir', ',', 'mustafa', 'kemal', 'entered', 'the', 'war', 'college', 'in', 'istanbul', 'in', 'march', '1899.', 'he', 'enjoyed', 'the', 'freedom', 'and', 'sophistication', 'of', 'the', 'city', ',', 'to', 'which', 'he', 'was', 'introduced', 'by', 'his', 'new', 'friend', 'and', 'classmate', 'ali', 'fuat', '(', 'cebesoy', ')', '.', 'at', 'the', 'secondary', 'school', ',', 'mustafa', 'received', 'the', 'nickname', 'of', 'kemal', ',', 'meaning', '“', 'the', 'perfect', 'one', ',', '”', 'from', 'his', 'mathematics', 'teacher', ';', 'he', 'was', 'thereafter', 'known', 'as', 'mustafa', 'kemal', '.', 'in', '1895', 'he', 'progressed', 'to', 'the', 'military', 'school', 'in', 'monastir', '(', 'now', 'bitola', ',', 'north', 'macedonia', ')', '.', 'he', 'made', 'several', 'new', 'friends', ',', 'including', 'ali', 'fethi', '(', 'okyar', ')', ',', 'who', 'would', 'later', 'join', 'him', 'in', 'the', 'creation', 'and', 'development', 'of', 'the', 'turkish', 'republic', '.', 'after', 'ali', 'riza', '’', 's', 'death', ',', 'zübeyde', 'hanım', 'moved', 'to', 'her', 'step-brother', '’', 's', 'farm', 'outside', 'salonika', '.', 'concerned', 'that', 'mustafa', 'might', 'grow', 'up', 'uneducated', ',', 'she', 'sent', 'him', 'back', 'to', 'salonika', ',', 'where', 'he', 'enrolled', 'in', 'a', 'secular', 'school', 'that', 'would', 'have', 'prepared', 'him', 'for', 'a', 'bureaucratic', 'career', '.', 'mustafa', 'became', 'enamoured', 'of', 'the', 'uniforms', 'worn', 'by', 'the', 'military', 'cadets', 'in', 'his', 'neighbourhood', '.', 'he', 'determined', 'to', 'enter', 'upon', 'a', 'military', 'career', '.', 'against', 'his', 'mother', '’', 's', 'wishes', ',', 'mustafa', 'took', 'the', 'examination', 'for', 'entrance', 'to', 'the', 'military', 'secondary', 'school', '.', 'ali', 'riza', 'died', 'when', 'mustafa', 'was', 'seven', 'years', 'old', ',', 'but', 'he', 'nevertheless', 'had', 'a', 'significant', 'influence', 'on', 'the', 'development', 'of', 'his', 'son', '’', 's', 'personality', '.', 'at', 'mustafa', '’', 's', 'birth', ',', 'ali', 'riza', 'hung', 'his', 'sword', 'over', 'his', 'son', '’', 's', 'cradle', ',', 'dedicating', 'him', 'to', 'military', 'service', '.', 'most', 'important', ',', 'ali', 'riza', 'saw', 'to', 'it', 'that', 'his', 'son', '’', 's', 'earliest', 'education', 'was', 'carried', 'out', 'in', 'a', 'modern', 'secular', 'school', ',', 'rather', 'than', 'in', 'the', 'religious', 'school', 'zübeyde', 'hanım', 'would', 'have', 'preferred', '.', 'in', 'this', 'way', 'ali', 'riza', 'set', 'his', 'son', 'on', 'the', 'path', 'of', 'modernization', '.', 'this', 'was', 'something', 'for', 'which', 'mustafa', 'always', 'felt', 'indebted', 'to', 'his', 'father', '.', 'atatürk', 'was', 'born', 'in', '1881', 'in', 'salonika', ',', 'then', 'a', 'thriving', 'port', 'of', 'the', 'ottoman', 'empire', ',', 'and', 'was', 'given', 'the', 'name', 'mustafa', '.', 'his', 'father', ',', 'ali', 'riza', ',', 'had', 'been', 'a', 'lieutenant', 'in', 'a', 'local', 'militia', 'unit', 'during', 'the', 'russo-turkish', 'war', 'of', '1877–78', ',', 'indicating', 'that', 'his', 'origins', 'were', 'within', 'the', 'ottoman', 'ruling', 'class', ',', 'if', 'only', 'marginally', '.', 'mustafa', '’', 's', 'mother', ',', 'zübeyde', 'hanım', ',', 'came', 'from', 'a', 'farming', 'community', 'west', 'of', 'salonika', '.', 'military', 'career', 'mustafa', 'kemal', '’', 's', 'career', 'almost', 'ended', 'soon', 'after', 'his', 'graduation', 'when', 'it', 'was', 'discovered', 'that', 'he', 'and', 'several', 'friends', 'were', 'meeting', 'to', 'read', 'about', 'and', 'discuss', 'political', 'abuses', 'within', 'the', 'empire', '.', 'a', 'government', 'spy', 'infiltrated', 'their', 'group', 'and', 'informed', 'on', 'them', '.', 'a', 'cloud', 'of', 'suspicion', 'hung', 'over', 'their', 'heads', 'that', 'was', 'not', 'to', 'be', 'lifted', 'for', 'years', '.', 'the', 'group', 'was', 'broken', 'up', 'and', 'its', 'members', 'assigned', 'to', 'remote', 'areas', 'of', 'the', 'empire', '.', 'mustafa', 'kemal', 'and', 'ali', 'faut', 'were', 'sent', 'to', 'the', 'fifth', 'army', 'in', 'damascus', ',', 'where', 'mustafa', 'kemal', 'was', 'angered', 'by', 'the', 'way', 'corrupt', 'officials', 'were', 'treating', 'the', 'local', 'people', '.', 'becoming', 'involved', 'again', 'in', 'antigovernment', 'activities', ',', 'he', 'helped', 'found', 'a', 'short-lived', 'secret', 'group', 'called', 'the', 'society', 'for', 'fatherland', 'and', 'freedom', '.', 'nevertheless', ',', 'in', 'september', '1907', 'mustafa', 'kemal', 'was', 'declared', 'loyal', 'and', 'reassigned', 'to', 'salonika', ',', 'which', 'was', 'awash', 'with', 'subversive', 'activity', '.', 'he', 'joined', 'the', 'dominant', 'antigovernment', 'group', ',', 'the', 'committee', 'of', 'union', 'and', 'progress', '(', 'cup', ')', ',', 'which', 'had', 'ties', 'to', 'the', 'nationalist', 'and', 'reformist', 'young', 'turk', 'movement', '.', 'in', 'july', '1908', 'an', 'insurrection', 'broke', 'out', 'in', 'macedonia', '.', 'the', 'sultan', 'was', 'forced', 'to', 'reinstate', 'the', 'constitution', 'of', '1876', ',', 'which', 'limited', 'his', 'powers', 'and', 'reestablished', 'a', 'representative', 'government', '.', 'the', 'hero', 'of', 'this', '“', 'young', 'turk', 'revolution', '”', 'was', 'enver', '(', 'enver', 'paşa', ')', ',', 'who', 'later', 'became', 'mustafa', 'kemal', '’', 's', 'greatest', 'rival', ';', 'the', 'two', 'men', 'came', 'to', 'dislike', 'each', 'other', 'thoroughly', '.', 'in', '1909', 'two', 'elements', 'within', 'the', 'revolutionary', 'movement', 'came', 'to', 'the', 'fore', '.', 'one', 'group', 'favoured', 'decentralization', ',', 'with', 'harmony', 'and', 'cooperation', 'between', 'the', 'muslims', 'and', 'the', 'non-muslims', '.', 'the', 'other', ',', 'headed', 'by', 'the', 'cup', ',', 'advocated', 'centralization', 'and', 'turkish', 'control', '.', 'an', 'insurrection', 'spearheaded', 'by', 'reactionary', 'troops', 'broke', 'out', 'on', 'the', 'night', 'of', 'april', '12–13', ',', '1909.', 'the', 'revolution', 'that', 'had', 'restored', 'the', 'constitution', 'in', '1908', 'was', 'in', 'danger', '.', 'military', 'officers', 'and', 'troops', 'from', 'salonika', ',', 'among', 'whom', 'enver', 'played', 'a', 'leading', 'role', ',', 'marched', 'on', 'istanbul', '.', 'they', 'arrived', 'at', 'the', 'capital', 'on', 'april', '23', ',', 'and', 'by', 'the', 'next', 'day', 'they', 'had', 'the', 'situation', 'well', 'in', 'hand', '.', 'the', 'cup', 'took', 'control', 'and', 'forced', 'abdülhamid', 'ii', 'to', 'abdicate', '.', 'enver', 'was', 'thus', 'in', 'the', 'ascendancy', '.', 'mustafa', 'kemal', 'felt', 'that', 'the', 'military', ',', 'having', 'gained', 'its', 'political', 'ends', ',', 'should', 'refrain', 'from', 'interfering', 'in', 'politics', '.', 'he', 'urged', 'those', 'officers', 'who', 'wanted', 'political', 'careers', 'to', 'resign', 'their', 'commissions', '.', 'this', 'served', 'only', 'to', 'increase', 'the', 'hostility', 'of', 'enver', 'and', 'other', 'cup', 'leaders', 'toward', 'him', '.', 'mustafa', 'kemal', 'turned', 'his', 'attention', 'from', 'politics', 'to', 'military', 'matters', '.', 'he', 'translated', 'german', 'infantry', 'training', 'manuals', 'into', 'turkish', '.', 'from', 'his', 'staff', 'position', 'he', 'criticized', 'the', 'state', 'of', 'the', 'army', '’', 's', 'training', '.', 'his', 'reputation', 'among', 'serious', 'military', 'officers', 'was', 'growing', '.', 'this', 'activity', 'also', 'brought', 'him', 'into', 'contact', 'with', 'many', 'of', 'the', 'rising', 'young', 'officers', '.', 'a', 'feeling', 'of', 'mutual', 'respect', 'developed', 'between', 'mustafa', 'kemal', 'and', 'some', 'of', 'these', 'officers', ',', 'who', 'were', 'later', 'to', 'flock', 'to', 'his', 'support', 'in', 'the', 'creation', 'of', 'the', 'turkish', 'nation', '.', 'the', 'cup', ',', 'however', ',', 'was', 'fed', 'up', 'with', 'him', ',', 'and', 'he', 'was', 'transferred', 'to', 'field', 'command', 'and', 'then', 'sent', 'to', 'observe', 'french', 'army', 'maneuvers', 'in', 'picardy', '.', 'although', 'consistently', 'denied', 'promotion', ',', 'mustafa', 'kemal', 'did', 'not', 'lose', 'faith', 'in', 'himself', '.', 'in', 'late', '1911', 'the', 'italians', 'attacked', 'libya', ',', 'then', 'an', 'ottoman', 'province', ',', 'and', 'mustafa', 'kemal', 'went', 'there', 'immediately', 'to', 'fight', '.', 'malaria', 'and', 'trouble', 'with', 'his', 'eyes', 'required', 'him', 'to', 'leave', 'the', 'front', 'for', 'treatment', 'in', 'vienna', '.', 'in', 'october', '1912', ',', 'while', 'mustafa', 'kemal', 'was', 'in', 'vienna', ',', 'the', 'first', 'balkan', 'war', 'broke', 'out', '.', 'he', 'was', 'assigned', 'to', 'the', 'defense', 'of', 'the', 'gallipoli', 'peninsula', ',', 'an', 'area', 'of', 'strategic', 'importance', 'with', 'respect', 'to', 'the', 'dardanelles', '.', 'within', 'two', 'months', 'the', 'ottoman', 'empire', 'lost', 'most', 'of', 'its', 'territory', 'in', 'europe', ',', 'including', 'monastir', 'and', 'salonika', ',', 'places', 'for', 'which', 'mustafa', 'kemal', 'had', 'special', 'affection', '.', 'among', 'the', 'refugees', 'who', 'poured', 'into', 'istanbul', 'were', 'his', 'mother', ',', 'sister', ',', 'and', 'stepfather', '.', 'the', 'second', 'balkan', 'war', ',', 'of', 'short', 'duration', '(', 'june–july', '1913', ')', ',', 'saw', 'the', 'ottomans', 'regain', 'part', 'of', 'their', 'lost', 'territory', '.', 'relations', 'were', 'renewed', 'with', 'bulgaria', '.', 'mustafa', 'kemal', '’', 's', 'former', 'schoolmate', 'ali', 'fethi', 'was', 'named', 'ambassador', ',', 'and', 'mustafa', 'kemal', 'accompanied', 'him', 'to', 'sofia', 'as', 'military', 'attaché', '.', 'there', 'he', 'was', 'promoted', 'to', 'lieutenant', 'colonel', '.', 'mustafa', 'kemal', 'complained', 'of', 'enver', '’', 's', 'close', 'ties', 'to', 'germany', 'and', 'predicted', 'german', 'defeat', 'in', 'an', 'international', 'conflict', '.', 'once', 'world', 'war', 'i', 'broke', 'out', ',', 'however', ',', 'and', 'the', 'ottoman', 'empire', 'entered', 'on', 'the', 'side', 'of', 'the', 'central', 'powers', ',', 'he', 'sought', 'a', 'military', 'command', '.', 'enver', 'made', 'him', 'cool', 'his', 'heels', 'in', 'sofia', 'but', 'finally', 'gave', 'him', 'command', 'of', 'the', '19th', 'division', ',', 'which', 'was', 'being', 'organized', 'in', 'the', 'gallipoli', 'peninsula', '.', 'it', 'was', 'here', 'that', 'the', 'allies', 'attempted', 'their', 'ill-fated', 'landings', ',', 'giving', 'mustafa', 'kemal', 'the', 'opportunity', 'to', 'throw', 'them', 'back', 'and', 'thwart', 'their', 'attempt', 'to', 'force', 'the', 'dardanelles', '(', 'february', '1915–january', '1916', ')', '.', 'during', 'the', 'battle', ',', 'mustafa', 'kemal', 'was', 'hit', 'by', 'a', 'piece', 'of', 'shrapnel', ',', 'which', 'lodged', 'in', 'the', 'watch', 'he', 'carried', 'in', 'his', 'breast', 'pocket', 'and', 'thus', 'failed', 'to', 'cause', 'him', 'serious', 'injury', '.', 'his', 'success', 'at', 'gallipoli', 'thrust', 'mustafa', 'kemal', 'onto', 'the', 'world', 'scene', '.', 'he', 'was', 'hailed', 'as', 'the', '“', 'saviour', 'of', 'istanbul', '”', 'and', 'was', 'promoted', 'to', 'colonel', 'on', 'june', '1', ',', '1915.', 'in', '1916', 'mustafa', 'kemal', 'was', 'assigned', 'to', 'the', 'russian', 'front', 'and', 'promoted', 'to', 'general', ',', 'acquiring', 'the', 'title', 'of', 'pasha', '.', 'he', 'was', 'the', 'only', 'turkish', 'general', 'to', 'win', 'any', 'victories', 'over', 'the', 'russians', 'on', 'the', 'eastern', 'front', '.', 'later', 'that', 'year', ',', 'he', 'took', 'over', 'the', 'command', 'of', 'the', 'second', 'army', 'in', 'southeastern', 'anatolia', '.', 'there', 'he', 'met', 'colonel', 'i̇smet', '(', 'i̇nönü', ')', ',', 'who', 'would', 'become', 'his', 'closest', 'ally', 'in', 'building', 'the', 'turkish', 'republic', '.', 'the', 'outbreak', 'of', 'the', 'russian', 'revolution', 'in', 'march', '1917', 'made', 'mustafa', 'kemal', 'available', 'for', 'service', 'in', 'the', 'ottoman', 'provinces', 'of', 'syria', 'and', 'iraq', ',', 'on', 'which', 'the', 'british', 'were', 'advancing', 'from', 'their', 'base', 'in', 'egypt', '.', 'he', 'was', 'appointed', 'to', 'the', 'command', 'of', 'the', 'seventh', 'army', 'in', 'syria', ',', 'but', 'he', 'was', 'appalled', 'by', 'the', 'sad', 'state', 'of', 'the', 'army', '.', 'resigning', 'his', 'post', ',', 'he', 'returned', 'without', 'permission', 'to', 'istanbul', '.', 'he', 'was', 'placed', 'on', 'leave', 'for', 'three', 'months', 'and', 'then', 'assigned', 'to', 'accompany', 'crown', 'prince', 'mehmed', 'vahideddin', 'on', 'a', 'state', 'visit', 'to', 'germany', '.', 'on', 'his', 'return', 'to', 'istanbul', ',', 'mustafa', 'kemal', 'fell', 'ill', 'with', 'kidney', 'problems', ',', 'most', 'probably', 'related', 'to', 'gonorrhea', ',', 'which', 'it', 'is', 'believed', 'he', 'had', 'contracted', 'earlier', '.', '(', 'his', 'physical', 'problems', 'would', 'later', 'require', 'him', 'to', 'have', 'a', 'personal', 'physician', 'in', 'constant', 'attendance', 'throughout', 'his', 'years', 'as', 'president', 'of', 'the', 'turkish', 'republic', '.', ')', 'he', 'went', 'to', 'vienna', 'for', 'treatment', 'and', 'then', 'to', 'carlsbad', 'to', 'recuperate', '.', 'while', 'he', 'was', 'in', 'carlsbad', ',', 'sultan', 'mehmed', 'v', 'died', ',', 'and', 'vahideddin', 'assumed', 'the', 'throne', 'as', 'mehmed', 'vi', '.', 'mustafa', 'kemal', 'was', 'recalled', 'to', 'istanbul', 'in', 'june', '1918.', 'through', 'enver', '’', 's', 'machinations', ',', 'the', 'sultan', 'assigned', 'mustafa', 'kemal', 'to', 'command', 'the', 'collapsing', 'ottoman', 'forces', 'in', 'syria', '.', 'he', 'found', 'the', 'situation', 'there', 'worse', 'than', 'he', 'had', 'imagined', 'and', 'withdrew', 'northward', 'to', 'save', 'the', 'lives', 'of', 'as', 'many', 'of', 'his', 'soldiers', 'as', 'possible', '.', 'fighting', 'was', 'halted', 'by', 'the', 'armistice', 'of', 'mudros', '(', 'october', '30', ',', '1918', ')', '.', 'shortly', 'afterward', ',', 'enver', 'and', 'other', 'leaders', 'of', 'the', 'cup', 'fled', 'to', 'germany', ',', 'leaving', 'the', 'sultan', 'to', 'lead', 'the', 'government', '.', 'to', 'ensure', 'the', 'continuation', 'of', 'his', 'rule', ',', 'mehmed', 'vi', 'was', 'willing', 'to', 'cooperate', 'with', 'the', 'allies', ',', 'who', 'assumed', 'control', 'of', 'the', 'government', '.']\n"
          ],
          "name": "stdout"
        }
      ]
    },
    {
      "cell_type": "code",
      "metadata": {
        "id": "nhlL2eJMHh7Q",
        "colab_type": "code",
        "colab": {}
      },
      "source": [
        "#Keyword Matching\n",
        "\n",
        "#Greeting inputs\n",
        "\n",
        "greeting_inputs = ['hi', 'hello', \"salam\", 'hey']\n",
        "\n",
        "# Greeting responese\n",
        "\n",
        "greeting_response=['howdy', 'hi', \"hello\"]\n",
        "\n",
        "def greeting(sentence):\n",
        "  for word in sentence.split():\n",
        "    if word.lower() in greeting_inputs:\n",
        "      return random.choice(greeting_response)"
      ],
      "execution_count": 24,
      "outputs": []
    },
    {
      "cell_type": "code",
      "metadata": {
        "id": "-mDdsqBoIxHC",
        "colab_type": "code",
        "colab": {}
      },
      "source": [
        "def response(user_response):\n",
        "  user_response = user_response.lower()\n",
        "\n",
        "  #print(user_response)\n",
        "  #set the chatbots respone\n",
        "  robo_response= \" \"\n",
        "\n",
        "  #Append he user response to the sentence list\n",
        "  sent_tokens.append(user_response)\n",
        "\n",
        "  #print(sent_tokens)\n",
        "\n",
        "  # Create TfidfVectorizer Object\n",
        "  TfidfVec=TfidfVectorizer(tokenizer= LemNormalize, stop_words='english')\n",
        "\n",
        "  # COnvert txt to matrix\n",
        "  tfidf=TfidfVec.fit_transform(sent_tokens)\n",
        "\n",
        "  #print(tfidf)\n",
        "\n",
        "  #Get the measure of simiarity scores\n",
        "\n",
        "  vals= cosine_similarity(tfidf[-1], tfidf)\n",
        "  #print(vals)\n",
        "  #get the index of the most similar text to the user response\n",
        "  idx= vals.argsort()[0][-2]\n",
        "\n",
        "  #reduce dimensionality of vals\n",
        "  flat= vals.flatten()\n",
        "\n",
        "  #sort the list in ascending order\n",
        "  flat.sort()\n",
        "\n",
        "  #get the most similar score to the users response\n",
        "  score=flat[-2]\n",
        "\n",
        "  #print(score)\n",
        "\n",
        "  #if the variable score is 0 then there is no text similar to user response\n",
        "  if(score==0):\n",
        "    robo_response=robo_response+'i apologize, i dont understand'\n",
        "  else:\n",
        "    robo_response=robo_response+sent_tokens[idx]\n",
        "\n",
        "  #print(robo_response)\n",
        "  sent_tokens.remove(user_response)\n",
        "  return robo_response\n",
        "\n"
      ],
      "execution_count": 25,
      "outputs": []
    },
    {
      "cell_type": "code",
      "metadata": {
        "id": "_oHejPwGRXLZ",
        "colab_type": "code",
        "colab": {
          "base_uri": "https://localhost:8080/",
          "height": 700
        },
        "outputId": "a73b649f-2e1b-4313-b811-928c74ffe15e"
      },
      "source": [
        "flag=True\n",
        "print('Bot: I am a Wiki page about Ataturk')\n",
        "while flag==True:\n",
        "  user_response=input()\n",
        "  user_response=user_response.lower()\n",
        "  if (user_response != 'bye'):\n",
        "    if(user_response==\"thanks\" or user_response== 'thank you'):\n",
        "      flag=False\n",
        "      print(\"Bot: Whatever\")\n",
        "    else:\n",
        "      if(greeting(user_response) != None):\n",
        "        print(\"Bot: \" +greeting(user_response))\n",
        "      else:\n",
        "        print(\"Bot:\" +response(user_response))\n",
        "        \n",
        "  else:\n",
        "    flag=False\n",
        "    print(\"Bot: Bye\")"
      ],
      "execution_count": 28,
      "outputs": [
        {
          "output_type": "stream",
          "text": [
            "Bot: I am a Wiki page about Ataturk\n",
            "When was he born?\n",
            "Bot: Atatürk was born in 1881 in Salonika, then a thriving port of the Ottoman Empire , and was given the name Mustafa.\n",
            "Who is he?\n",
            "Bot: i apologize, i dont understand\n",
            "When Ataturk was promoted?\n",
            "Bot: There he was promoted to lieutenant colonel.\n"
          ],
          "name": "stdout"
        }
