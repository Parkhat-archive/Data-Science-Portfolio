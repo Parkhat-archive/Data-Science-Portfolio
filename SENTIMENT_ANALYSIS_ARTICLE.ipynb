{
  "nbformat": 4,
  "nbformat_minor": 0,
  "metadata": {
    "colab": {
      "name": "SENTIMENT_ANALYSIS_ARTICLE.ipynb",
      "provenance": [],
      "authorship_tag": "ABX9TyOwNzPegHgAiWaZV9pDjRRj",
      "include_colab_link": true
    },
    "kernelspec": {
      "name": "python3",
      "display_name": "Python 3"
    }
  },
  "cells": [
    {
      "cell_type": "markdown",
      "metadata": {
        "id": "view-in-github",
        "colab_type": "text"
      },
      "source": [
        "<a href=\"https://colab.research.google.com/github/Parkhat-archive/Data-Science-Portfolio/blob/master/SENTIMENT_ANALYSIS_ARTICLE.ipynb\" target=\"_parent\"><img src=\"https://colab.research.google.com/assets/colab-badge.svg\" alt=\"Open In Colab\"/></a>"
      ]
    },
    {
      "cell_type": "code",
      "metadata": {
        "id": "eVV8nHq49jnS",
        "colab_type": "code",
        "colab": {}
      },
      "source": [
        "#Get the sentiment of a text from a website"
      ],
      "execution_count": null,
      "outputs": []
    },
    {
      "cell_type": "code",
      "metadata": {
        "id": "-aIGU7sbMlV9",
        "colab_type": "code",
        "colab": {}
      },
      "source": [
        "pip install newspaper3k"
      ],
      "execution_count": null,
      "outputs": []
    },
    {
      "cell_type": "code",
      "metadata": {
        "id": "Xs5xvvg0Myt_",
        "colab_type": "code",
        "colab": {}
      },
      "source": [
        "from textblob import TextBlob\n",
        "import nltk\n",
        "from newspaper import Article\n"
      ],
      "execution_count": null,
      "outputs": []
    },
    {
      "cell_type": "code",
      "metadata": {
        "id": "tTXY4-6qNBYL",
        "colab_type": "code",
        "colab": {}
      },
      "source": [
        "#Get the article\n",
        "url='https://decrypt.co/29053/elon-musk-reveals-how-much-bitcoin-he-owns'\n",
        "article=Article(url)"
      ],
      "execution_count": null,
      "outputs": []
    },
    {
      "cell_type": "code",
      "metadata": {
        "id": "OjZpPvNKNX2K",
        "colab_type": "code",
        "colab": {
          "base_uri": "https://localhost:8080/",
          "height": 52
        },
        "outputId": "d00af4ed-04c1-4573-c9c9-89982efc340b"
      },
      "source": [
        "#Do some NLP\n",
        "article.download()\n",
        "article.parse()\n",
        "nltk.download('punkt')\n",
        "article.nlp()"
      ],
      "execution_count": null,
      "outputs": [
        {
          "output_type": "stream",
          "text": [
            "[nltk_data] Downloading package punkt to /root/nltk_data...\n",
            "[nltk_data]   Package punkt is already up-to-date!\n"
          ],
          "name": "stdout"
        }
      ]
    },
    {
      "cell_type": "code",
      "metadata": {
        "id": "YDr-4ib5NoTe",
        "colab_type": "code",
        "colab": {
          "base_uri": "https://localhost:8080/",
          "height": 126
        },
        "outputId": "4ec9a086-7645-4cb4-dfe6-5712024f6ecd"
      },
      "source": [
        "#Get the summary\n",
        "text=article.summary\n",
        "\n",
        "print(text)"
      ],
      "execution_count": null,
      "outputs": [
        {
          "output_type": "stream",
          "text": [
            "Billionaire entrepreneur Elon Musk yesterday told the world how much Bitcoin he owns and it's somewhat… modest—for a billionaire who had tweeted memes about Bitcoin in the past.\n",
            "Musk told the Twittersphere how much he holds after explaining to Harry Potter author J.K. Rowling that the largest cryptocurrency by market cap could be useful.\n",
            "While Ari Paul, co-founder and CIO of Block Tower Capital, joked about the small amount the billionaire owns.\n",
            "And Francis Pouliot, CEO of Canadian over-the-counter bitcoin exchange Bull Bitcoin, told Musk: \"anything is better than zero!\"\n",
            "But the eccentric entrepreneur’s latest comments had little influence on the price of Bitcoin… given his tweets about Tesla’s stock price, this is probably for the best.\n"
          ],
          "name": "stdout"
        }
      ]
    },
    {
      "cell_type": "code",
      "metadata": {
        "id": "8os5ZlADO2Dg",
        "colab_type": "code",
        "colab": {
          "base_uri": "https://localhost:8080/",
          "height": 35
        },
        "outputId": "c3d45df5-b2f4-4d85-dc95-b54e91f6ef3d"
      },
      "source": [
        "#Create a TextBlob object\n",
        "obj= TextBlob(text)\n",
        "# This returens values -1 and 1\n",
        "sentiment=obj.sentiment.polarity\n",
        "print(sentiment)"
      ],
      "execution_count": null,
      "outputs": [
        {
          "output_type": "stream",
          "text": [
            "0.21375000000000002\n"
          ],
          "name": "stdout"
        }
      ]
    },
    {
      "cell_type": "code",
      "metadata": {
        "id": "1-29eS_jPZEw",
        "colab_type": "code",
        "colab": {
          "base_uri": "https://localhost:8080/",
          "height": 35
        },
        "outputId": "a0a3391f-0bdf-41b9-bf1b-0b7bd4329ca0"
      },
      "source": [
        "if sentiment==0:\n",
        "  print('Sentiment is neutral')\n",
        "elif sentiment>0:\n",
        "  print('Text is positive')\n",
        "elif sentiment<0:\n",
        "  print(\"Text is negative\")"
      ],
      "execution_count": null,
      "outputs": [
        {
          "output_type": "stream",
          "text": [
            "Text is positive\n"
          ],
          "name": "stdout"
        }
      ]
    }
  ]
}