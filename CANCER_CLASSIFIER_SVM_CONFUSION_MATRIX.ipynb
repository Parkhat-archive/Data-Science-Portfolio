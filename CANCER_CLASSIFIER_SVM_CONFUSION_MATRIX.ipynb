{
  "nbformat": 4,
  "nbformat_minor": 0,
  "metadata": {
    "colab": {
      "name": "CANCER_CLASSIFIER_SVM_CONFUSION_MATRIX",
      "provenance": [],
      "collapsed_sections": [],
      "authorship_tag": "ABX9TyPahhU7g6ed4yzkwVLuI6JA",
      "include_colab_link": true
    },
    "kernelspec": {
      "name": "python3",
      "display_name": "Python 3"
    }
  },
  "cells": [
    {
      "cell_type": "markdown",
      "metadata": {
        "id": "view-in-github",
        "colab_type": "text"
      },
      "source": [
        "<a href=\"https://colab.research.google.com/github/Parkhat-archive/Data-Science-Portfolio/blob/master/CANCER_CLASSIFIER_SVM_CONFUSION_MATRIX.ipynb\" target=\"_parent\"><img src=\"https://colab.research.google.com/assets/colab-badge.svg\" alt=\"Open In Colab\"/></a>"
      ]
    },
    {
      "cell_type": "code",
      "metadata": {
        "id": "gr4Bq-zLqPXe",
        "colab_type": "code",
        "colab": {
          "base_uri": "https://localhost:8080/",
          "height": 313
        },
        "outputId": "745b3dd5-cde0-4361-a2f1-a51f8b98144c"
      },
      "source": [
        "import sklearn\n",
        "from sklearn import datasets\n",
        "from sklearn import svm\n",
        "from sklearn import metrics\n",
        "from sklearn.neighbors import KNeighborsClassifier\n",
        "from sklearn.metrics import plot_confusion_matrix\n",
        "import matplotlib.pyplot as plt\n",
        "\n",
        "cancer= datasets.load_breast_cancer()\n",
        "\n",
        "#print(cancer.feature_names)\n",
        "#print(cancer.target_names)\n",
        "\n",
        "x = cancer.data\n",
        "y = cancer.target\n",
        "\n",
        "x_train, x_test, y_train, y_test = sklearn.model_selection.train_test_split(x, y, test_size=0.2)\n",
        "\n",
        "#print(x_train, y_train)\n",
        "classes = ['malignant', 'benign']\n",
        "\n",
        "clf = svm.SVC(kernel='linear', C=1) #Try kernel=poly, degre=1\n",
        "# #KNeighborsClassifier(n_neighbors=5)\n",
        "clf.fit(x_train, y_train)\n",
        "\n",
        "y_pred = clf.predict(x_test)\n",
        "\n",
        "acc = metrics.accuracy_score(y_test, y_pred)\n",
        "print(acc)\n",
        "\n",
        "#for x in range(len(x_test)):\n",
        "#    print(classes[y_pred[x]])\n",
        "\n",
        "disp = plot_confusion_matrix(clf, x_test, y_test,\n",
        "                                 display_labels=classes,\n",
        "                                 cmap=plt.cm.Blues)\n",
        "print(disp)"
      ],
      "execution_count": null,
      "outputs": [
        {
          "output_type": "stream",
          "text": [
            "0.9649122807017544\n",
            "<sklearn.metrics._plot.confusion_matrix.ConfusionMatrixDisplay object at 0x7f52c4a6dc50>\n"
          ],
          "name": "stdout"
        },
        {
          "output_type": "display_data",
          "data": {
            "image/png": "[encoded data removed]",
            "text/plain": [
              "<Figure size 432x288 with 2 Axes>"
            ]
          },
          "metadata": {
            "tags": [],
            "needs_background": "light"
          }
        }
      ]
    }
  ]
}