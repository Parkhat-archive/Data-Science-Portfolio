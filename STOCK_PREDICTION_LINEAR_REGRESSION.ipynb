{
  "nbformat": 4,
  "nbformat_minor": 0,
  "metadata": {
    "colab": {
      "name": "Google_Stock_Linear_Regression",
      "provenance": [],
      "collapsed_sections": [],
      "authorship_tag": "ABX9TyNsgXwKJXgpy9BoeQthe8Js",
      "include_colab_link": true
    },
    "kernelspec": {
      "name": "python3",
      "display_name": "Python 3"
    }
  },
  "cells": [
    {
      "cell_type": "markdown",
      "metadata": {
        "id": "view-in-github",
        "colab_type": "text"
      },
      "source": [
        "<a href=\"https://colab.research.google.com/github/Parkhat-archive/Data-Science-Portfolio/blob/master/Google_Stock_Linear_Regression.ipynb\" target=\"_parent\"><img src=\"https://colab.research.google.com/assets/colab-badge.svg\" alt=\"Open In Colab\"/></a>"
      ]
    },
    {
      "cell_type": "code",
      "metadata": {
        "id": "HPmPYTyTS-XE",
        "colab_type": "code",
        "colab": {
          "base_uri": "https://localhost:8080/",
          "height": 326
        },
        "outputId": "0dc9af8b-f356-434d-d079-07de2e4dea67"
      },
      "source": [
        "pip install quandl"
      ],
      "execution_count": null,
      "outputs": [
        {
          "output_type": "stream",
          "text": [
            "Collecting quandl\n",
            "  Downloading https://files.pythonhosted.org/packages/21/ce/281f4ae2554ba676735157a91205e808af149e97be534d6a1b9196638e63/Quandl-3.5.1-py2.py3-none-any.whl\n",
            "Requirement already satisfied: numpy>=1.8 in /usr/local/lib/python3.6/dist-packages (from quandl) (1.18.5)\n",
            "Requirement already satisfied: six in /usr/local/lib/python3.6/dist-packages (from quandl) (1.12.0)\n",
            "Requirement already satisfied: python-dateutil in /usr/local/lib/python3.6/dist-packages (from quandl) (2.8.1)\n",
            "Requirement already satisfied: pandas>=0.14 in /usr/local/lib/python3.6/dist-packages (from quandl) (1.0.5)\n",
            "Collecting inflection>=0.3.1\n",
            "  Downloading https://files.pythonhosted.org/packages/d2/cd/f04c661d1b5ba6b7d77008e8fedd28a27a683eeeffcd93c6b2dbe54ea983/inflection-0.5.0-py2.py3-none-any.whl\n",
            "Requirement already satisfied: more-itertools in /usr/local/lib/python3.6/dist-packages (from quandl) (8.4.0)\n",
            "Requirement already satisfied: requests>=2.7.0 in /usr/local/lib/python3.6/dist-packages (from quandl) (2.23.0)\n",
            "Requirement already satisfied: pytz>=2017.2 in /usr/local/lib/python3.6/dist-packages (from pandas>=0.14->quandl) (2018.9)\n",
            "Requirement already satisfied: chardet<4,>=3.0.2 in /usr/local/lib/python3.6/dist-packages (from requests>=2.7.0->quandl) (3.0.4)\n",
            "Requirement already satisfied: certifi>=2017.4.17 in /usr/local/lib/python3.6/dist-packages (from requests>=2.7.0->quandl) (2020.6.20)\n",
            "Requirement already satisfied: idna<3,>=2.5 in /usr/local/lib/python3.6/dist-packages (from requests>=2.7.0->quandl) (2.10)\n",
            "Requirement already satisfied: urllib3!=1.25.0,!=1.25.1,<1.26,>=1.21.1 in /usr/local/lib/python3.6/dist-packages (from requests>=2.7.0->quandl) (1.24.3)\n",
            "Installing collected packages: inflection, quandl\n",
            "Successfully installed inflection-0.5.0 quandl-3.5.1\n"
          ],
          "name": "stdout"
        }
      ]
    },
    {
      "cell_type": "code",
      "metadata": {
        "id": "xjhXQ58WVWbi",
        "colab_type": "code",
        "colab": {
          "base_uri": "https://localhost:8080/",
          "height": 207
        },
        "outputId": "76024686-fd4a-4692-a2f7-b06faad1c720"
      },
      "source": [
        "!pip install pandas\n",
        "!pip install sklearn\n"
      ],
      "execution_count": null,
      "outputs": [
        {
          "output_type": "stream",
          "text": [
            "Requirement already satisfied: pandas in /usr/local/lib/python3.6/dist-packages (1.0.5)\n",
            "Requirement already satisfied: pytz>=2017.2 in /usr/local/lib/python3.6/dist-packages (from pandas) (2018.9)\n",
            "Requirement already satisfied: python-dateutil>=2.6.1 in /usr/local/lib/python3.6/dist-packages (from pandas) (2.8.1)\n",
            "Requirement already satisfied: numpy>=1.13.3 in /usr/local/lib/python3.6/dist-packages (from pandas) (1.18.5)\n",
            "Requirement already satisfied: six>=1.5 in /usr/local/lib/python3.6/dist-packages (from python-dateutil>=2.6.1->pandas) (1.12.0)\n",
            "Requirement already satisfied: sklearn in /usr/local/lib/python3.6/dist-packages (0.0)\n",
            "Requirement already satisfied: scikit-learn in /usr/local/lib/python3.6/dist-packages (from sklearn) (0.22.2.post1)\n",
            "Requirement already satisfied: numpy>=1.11.0 in /usr/local/lib/python3.6/dist-packages (from scikit-learn->sklearn) (1.18.5)\n",
            "Requirement already satisfied: scipy>=0.17.0 in /usr/local/lib/python3.6/dist-packages (from scikit-learn->sklearn) (1.4.1)\n",
            "Requirement already satisfied: joblib>=0.11 in /usr/local/lib/python3.6/dist-packages (from scikit-learn->sklearn) (0.16.0)\n"
          ],
          "name": "stdout"
        }
      ]
    },
    {
      "cell_type": "code",
      "metadata": {
        "id": "A1WfumeS9CpO",
        "colab_type": "code",
        "colab": {}
      },
      "source": [
        "import pandas as pd\n",
        "import quandl\n",
        "import math\n",
        "import datetime\n",
        "import numpy as np\n",
        "from sklearn import model_selection\n",
        "from sklearn import preprocessing, svm\n",
        "from sklearn.model_selection import train_test_split\n",
        "from sklearn.linear_model import LinearRegression\n",
        "import matplotlib.pyplot as plt\n",
        "from matplotlib import style\n",
        "import pickle \n",
        "\n",
        "style.use(\"ggplot\")\n",
        "\n",
        "\n",
        "quandl.ApiConfig.api_key = \"4D3wFRAoXX6htYutfeQ9\"\n",
        "df = quandl.get(\"WIKI/GOOGL\")\n",
        "\n",
        "#define importat features\n",
        "df = df[[\"Adj. Open\" , \"Adj. High\", \"Adj. Low\", \"Adj. Close\", \"Adj. Volume\"]]"
      ],
      "execution_count": null,
      "outputs": []
    },
    {
      "cell_type": "code",
      "metadata": {
        "id": "umhTh8Ktoky4",
        "colab_type": "code",
        "colab": {
          "base_uri": "https://localhost:8080/",
          "height": 272
        },
        "outputId": "9cd122dd-5bee-4732-8160-b2fa8d9a1a47"
      },
      "source": [
        "df.head\n"
      ],
      "execution_count": null,
      "outputs": [
        {
          "output_type": "execute_result",
          "data": {
            "text/plain": [
              "<bound method NDFrame.head of               Adj. Open    Adj. High     Adj. Low   Adj. Close  Adj. Volume\n",
              "Date                                                                       \n",
              "2004-08-19    50.159839    52.191109    48.128568    50.322842   44659000.0\n",
              "2004-08-20    50.661387    54.708881    50.405597    54.322689   22834300.0\n",
              "2004-08-23    55.551482    56.915693    54.693835    54.869377   18256100.0\n",
              "2004-08-24    55.792225    55.972783    51.945350    52.597363   15247300.0\n",
              "2004-08-25    52.542193    54.167209    52.100830    53.164113    9188600.0\n",
              "...                 ...          ...          ...          ...          ...\n",
              "2018-03-21  1092.570000  1108.700000  1087.210000  1094.000000    1990515.0\n",
              "2018-03-22  1080.010000  1083.920000  1049.640000  1053.150000    3418154.0\n",
              "2018-03-23  1051.370000  1066.780000  1024.870000  1026.550000    2413517.0\n",
              "2018-03-26  1050.600000  1059.270000  1010.580000  1054.090000    3272409.0\n",
              "2018-03-27  1063.900000  1064.540000   997.620000  1006.940000    2940957.0\n",
              "\n",
              "[3424 rows x 5 columns]>"
            ]
          },
          "metadata": {
            "tags": []
          },
          "execution_count": 5
        }
      ]
    },
    {
      "cell_type": "code",
      "metadata": {
        "id": "SEFG-Dp2nGQ5",
        "colab_type": "code",
        "colab": {}
      },
      "source": [
        "#percent volatolity(high - low percent)\n",
        "df['HL_PCT'] = (df[\"Adj. High\"] - df[\"Adj. Close\"]) / df[\"Adj. Close\"] * 100.0\n",
        "#Daily Percent Change \n",
        "df['PCT_Change'] = (df[\"Adj. Close\"] - df[\"Adj. Open\"]) / df[\"Adj. Open\"] * 100.0\n",
        "\n",
        "#          price           x          x              x\n",
        "df = df[['Adj. Close', 'HL_PCT', 'PCT_Change', \"Adj. Volume\"]]"
      ],
      "execution_count": null,
      "outputs": []
    },
    {
      "cell_type": "code",
      "metadata": {
        "id": "P2Wz0fDC7YSl",
        "colab_type": "code",
        "colab": {
          "base_uri": "https://localhost:8080/",
          "height": 122
        },
        "outputId": "6269b79b-29a5-4e94-906a-ae2f1dacb30b"
      },
      "source": [
        "forecast_column = 'Adj. Close'\n",
        "df.fillna(-99999, inplace= True) #better than getting rid of data c.SENDTEX"
      ],
      "execution_count": null,
      "outputs": [
        {
          "output_type": "stream",
          "text": [
            "/usr/local/lib/python3.6/dist-packages/pandas/core/frame.py:4153: SettingWithCopyWarning: \n",
            "A value is trying to be set on a copy of a slice from a DataFrame\n",
            "\n",
            "See the caveats in the documentation: https://pandas.pydata.org/pandas-docs/stable/user_guide/indexing.html#returning-a-view-versus-a-copy\n",
            "  downcast=downcast,\n"
          ],
          "name": "stderr"
        }
      ]
    },
    {
      "cell_type": "code",
      "metadata": {
        "id": "qL285XZT79W6",
        "colab_type": "code",
        "colab": {
          "base_uri": "https://localhost:8080/",
          "height": 377
        },
        "outputId": "2e06d4ab-5dfa-4ab7-8ecb-e72bf67ea8bc"
      },
      "source": [
        "forecast_out = int(math.ceil(0.01*len(df))) #1 percent of dataframe\n",
        "\n",
        "df[\"label\"] = df[forecast_column].shift(-forecast_out)\n",
        " \n",
        "print(df.head())\n",
        "print(df.tail())"
      ],
      "execution_count": null,
      "outputs": [
        {
          "output_type": "stream",
          "text": [
            "            Adj. Close    HL_PCT  PCT_Change  Adj. Volume      label\n",
            "Date                                                                \n",
            "2004-08-19   50.322842  3.712563    0.324968   44659000.0  69.639972\n",
            "2004-08-20   54.322689  0.710922    7.227007   22834300.0  69.078238\n",
            "2004-08-23   54.869377  3.729433   -1.227880   18256100.0  67.839414\n",
            "2004-08-24   52.597363  6.417469   -5.726357   15247300.0  68.912727\n",
            "2004-08-25   53.164113  1.886792    1.183658    9188600.0  70.668146\n",
            "            Adj. Close    HL_PCT  PCT_Change  Adj. Volume  label\n",
            "Date                                                            \n",
            "2018-01-30     1177.37  0.896914   -0.029718    1792602.0    NaN\n",
            "2018-01-31     1182.22  0.346805   -0.134312    1643877.0    NaN\n",
            "2018-02-01     1181.59  0.495942    0.476195    2774967.0    NaN\n",
            "2018-02-02     1119.20  1.081129   -0.729098    5798880.0    NaN\n",
            "2018-02-05     1068.76  4.325574   -2.893850    3742469.0    NaN\n"
          ],
          "name": "stdout"
        },
        {
          "output_type": "stream",
          "text": [
            "/usr/local/lib/python3.6/dist-packages/ipykernel_launcher.py:3: SettingWithCopyWarning: \n",
            "A value is trying to be set on a copy of a slice from a DataFrame.\n",
            "Try using .loc[row_indexer,col_indexer] = value instead\n",
            "\n",
            "See the caveats in the documentation: https://pandas.pydata.org/pandas-docs/stable/user_guide/indexing.html#returning-a-view-versus-a-copy\n",
            "  This is separate from the ipykernel package so we can avoid doing imports until\n"
          ],
          "name": "stderr"
        }
      ]
    },
    {
      "cell_type": "code",
      "metadata": {
        "id": "qIupUtXP_86M",
        "colab_type": "code",
        "colab": {
          "base_uri": "https://localhost:8080/",
          "height": 139
        },
        "outputId": "1965d45f-14f5-4556-c921-04aa2f65bd5e"
      },
      "source": [
        "X = np.array(df.drop(['label'], 1))\n",
        "\n",
        "\n",
        "#scale new values along with your old values\n",
        "X = preprocessing.scale(X)\n",
        "X= X[:-forecast_out]\n",
        "X_lately = X[-forecast_out:]\n",
        "\n",
        "df.dropna(inplace=True)\n",
        "y = np.array(df[\"label\"])\n",
        "\n",
        "\n",
        "print(len(X), len(y))"
      ],
      "execution_count": null,
      "outputs": [
        {
          "output_type": "stream",
          "text": [
            "3355 3355\n"
          ],
          "name": "stdout"
        },
        {
          "output_type": "stream",
          "text": [
            "/usr/local/lib/python3.6/dist-packages/ipykernel_launcher.py:9: SettingWithCopyWarning: \n",
            "A value is trying to be set on a copy of a slice from a DataFrame\n",
            "\n",
            "See the caveats in the documentation: https://pandas.pydata.org/pandas-docs/stable/user_guide/indexing.html#returning-a-view-versus-a-copy\n",
            "  if __name__ == '__main__':\n"
          ],
          "name": "stderr"
        }
      ]
    },
    {
      "cell_type": "code",
      "metadata": {
        "id": "LgU2dHjGCBGG",
        "colab_type": "code",
        "colab": {}
      },
      "source": [
        "X_train, X_test, y_train, y_test= train_test_split(X, y, test_size= 0.2)"
      ],
      "execution_count": null,
      "outputs": []
    },
    {
      "cell_type": "code",
      "metadata": {
        "id": "6_9qUk5nQ3cy",
        "colab_type": "code",
        "colab": {
          "base_uri": "https://localhost:8080/",
          "height": 34
        },
        "outputId": "d2d2a41d-80eb-4d77-f0a4-d882fcea647b"
      },
      "source": [
        "clf = LinearRegression() # try svm.SVR(kernel=poly) LinearRegression(n_jobs=-1)\n",
        "clf.fit(X_train, y_train)\n",
        "'''\n",
        "with open('linearreression.pickle', 'wb') as f:\n",
        "  pickle.dump(clf, f)\n",
        "\n",
        "pickle_in = open('linearresgression.pickle', 'rb')\n",
        "clf = pickle.load(pickle_in)\n",
        "'''\n",
        "accuracy = clf.score(X_test, y_test)\n",
        "print(accuracy)"
      ],
      "execution_count": null,
      "outputs": [
        {
          "output_type": "stream",
          "text": [
            "0.9776577968212726\n"
          ],
          "name": "stdout"
        }
      ]
    },
    {
      "cell_type": "code",
      "metadata": {
        "id": "_wQYF9D-VxmT",
        "colab_type": "code",
        "colab": {
          "base_uri": "https://localhost:8080/",
          "height": 136
        },
        "outputId": "25f91e76-a818-476b-ebdd-e7a42131763a"
      },
      "source": [
        "forecast_set = clf.predict(X_lately)\n",
        "print(forecast_set, accuracy, forecast_out)"
      ],
      "execution_count": null,
      "outputs": [
        {
          "output_type": "stream",
          "text": [
            "[1014.15362869 1055.2903019  1057.3539943  1057.31026283 1067.17440832\n",
            " 1067.9517857  1075.25953164 1067.05417828 1077.65395778 1072.56358174\n",
            " 1069.19938713 1065.80661463 1066.82243315 1061.28713259 1073.59717625\n",
            " 1059.53946107 1059.42153239 1075.73082027 1077.09472099 1081.76392128\n",
            " 1097.62898257 1087.27167738 1060.13239435 1060.27492286 1048.6996515\n",
            " 1034.52151583 1042.87029963 1057.29053655 1069.44906133 1074.00070433\n",
            " 1077.00964784 1072.81370304 1076.32709947 1082.07540989] 0.9776577968212726 34\n"
          ],
          "name": "stdout"
        }
      ]
    },
    {
      "cell_type": "code",
      "metadata": {
        "id": "yp0Zpje-W4xg",
        "colab_type": "code",
        "colab": {
          "base_uri": "https://localhost:8080/",
          "height": 479
        },
        "outputId": "7cc9824f-471b-4b51-9ab8-25d84c92746d"
      },
      "source": [
        "#set date on the axis\n",
        "df['Forecast'] = np.nan\n",
        "last_date = df.iloc[-1].name\n",
        "last_unix = last_date.timestamp()\n",
        "one_day = 86400\n",
        "next_unix = last_unix + one_day\n",
        "\n",
        "for i in forecast_set:\n",
        "  next_date = datetime.datetime.fromtimestamp(next_unix)\n",
        "  next_unix += one_day\n",
        "  df.loc[next_date]= [np.nan for _ in range(len(df.columns)-1)] + [i] \n",
        "  #df.loc the index of df\n",
        "\n",
        "df['Adj. Close'].plot()\n",
        "df['Forecast'].plot()\n",
        "plt.legend(loc=4)\n",
        "plt.xlabel('Date')\n",
        "plt.ylabel('Price')\n",
        "plt.show()"
      ],
      "execution_count": null,
      "outputs": [
        {
          "output_type": "stream",
          "text": [
            "/usr/local/lib/python3.6/dist-packages/ipykernel_launcher.py:2: SettingWithCopyWarning: \n",
            "A value is trying to be set on a copy of a slice from a DataFrame.\n",
            "Try using .loc[row_indexer,col_indexer] = value instead\n",
            "\n",
            "See the caveats in the documentation: https://pandas.pydata.org/pandas-docs/stable/user_guide/indexing.html#returning-a-view-versus-a-copy\n",
            "  \n",
            "/usr/local/lib/python3.6/dist-packages/pandas/core/indexing.py:671: SettingWithCopyWarning: \n",
            "A value is trying to be set on a copy of a slice from a DataFrame\n",
            "\n",
            "See the caveats in the documentation: https://pandas.pydata.org/pandas-docs/stable/user_guide/indexing.html#returning-a-view-versus-a-copy\n",
            "  self._setitem_with_indexer(indexer, value)\n"
          ],
          "name": "stderr"
        },
        {
          "output_type": "display_data",
          "data": {
            "image/png": "[encoded data removed]",
            "text/plain": [
              "<Figure size 432x288 with 1 Axes>"
            ]
          },
          "metadata": {
            "tags": []
          }
        }
      ]
    },
    {
      "cell_type": "code",
      "metadata": {
        "id": "5JUw9mixa0qT",
        "colab_type": "code",
        "colab": {}
      },
      "source": [
        ""
      ],
      "execution_count": null,
      "outputs": []
    }
  ]
}
