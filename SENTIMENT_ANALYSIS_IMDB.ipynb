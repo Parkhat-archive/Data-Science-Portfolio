{
  "nbformat": 4,
  "nbformat_minor": 0,
  "metadata": {
    "colab": {
      "name": "SENTIMENT_ANALYSIS_IMDB",
      "provenance": [],
      "authorship_tag": "ABX9TyMgVrfFcvyvGkM8YKIEpiJR",
      "include_colab_link": true
    },
    "kernelspec": {
      "name": "python3",
      "display_name": "Python 3"
    }
  },
  "cells": [
    {
      "cell_type": "markdown",
      "metadata": {
        "id": "view-in-github",
        "colab_type": "text"
      },
      "source": [
        "<a href=\"https://colab.research.google.com/github/Parkhat-archive/Data-Science-Portfolio/blob/master/SENTIMENT_ANALYSIS_IMDB.ipynb\" target=\"_parent\"><img src=\"https://colab.research.google.com/assets/colab-badge.svg\" alt=\"Open In Colab\"/></a>"
      ]
    },
    {
      "cell_type": "code",
      "metadata": {
        "id": "OpNQ_3J8MsK1",
        "colab_type": "code",
        "colab": {}
      },
      "source": [
        "import tensorflow as tf\n",
        "from tensorflow import keras\n",
        "import numpy\n",
        "\n",
        "imdb = keras.datasets.imdb\n",
        "\n",
        "(train_data, train_labels), (test_data, test_labels) = imdb.load_data(num_words=10000)"
      ],
      "execution_count": 9,
      "outputs": []
    },
    {
      "cell_type": "code",
      "metadata": {
        "id": "sw7d1MUYLObZ",
        "colab_type": "code",
        "colab": {}
      },
      "source": [
        "# A dictionary mapping words to an integer index\n",
        "_word_index = imdb.get_word_index()\n",
        "\n",
        "word_index = {k:(v+3) for k,v in _word_index.items()}\n",
        "word_index[\"<PAD>\"] = 0\n",
        "word_index[\"<START>\"] = 1\n",
        "word_index[\"<UNK>\"] = 2  # unknown\n",
        "word_index[\"<UNUSED>\"] = 3\n",
        "\n",
        "reverse_word_index = dict([(value, key) for (key, value) in word_index.items()])\n",
        "\n",
        "def decode_review(text):\n",
        "\treturn \" \".join([reverse_word_index.get(i, \"?\") for i in text])\n",
        "\n",
        "# this function will return the decoded (human readable) reviews  "
      ],
      "execution_count": 10,
      "outputs": []
    },
    {
      "cell_type": "code",
      "metadata": {
        "id": "A8ZU6FYBMxna",
        "colab_type": "code",
        "colab": {}
      },
      "source": [
        "train_data = keras.preprocessing.sequence.pad_sequences(train_data, value=word_index[\"<PAD>\"], padding=\"post\", maxlen=250)\n",
        "test_data = keras.preprocessing.sequence.pad_sequences(test_data, value=word_index[\"<PAD>\"], padding=\"post\", maxlen=250)"
      ],
      "execution_count": 11,
      "outputs": []
    },
    {
      "cell_type": "code",
      "metadata": {
        "id": "r6wRDYwMMzB5",
        "colab_type": "code",
        "colab": {
          "base_uri": "https://localhost:8080/",
          "height": 289
        },
        "outputId": "f355e916-b6aa-4bb0-8b35-0d8324ea959f"
      },
      "source": [
        "model = keras.Sequential()\n",
        "model.add(keras.layers.Embedding(10000, 16))\n",
        "model.add(keras.layers.GlobalAveragePooling1D())\n",
        "model.add(keras.layers.Dense(16, activation=\"relu\"))\n",
        "model.add(keras.layers.Dense(1, activation=\"sigmoid\"))\n",
        "\n",
        "model.summary()  # prints a summary of the model"
      ],
      "execution_count": 12,
      "outputs": [
        {
          "output_type": "stream",
          "text": [
            "Model: \"sequential_1\"\n",
            "_________________________________________________________________\n",
            "Layer (type)                 Output Shape              Param #   \n",
            "=================================================================\n",
            "embedding_1 (Embedding)      (None, None, 16)          160000    \n",
            "_________________________________________________________________\n",
            "global_average_pooling1d_1 ( (None, 16)                0         \n",
            "_________________________________________________________________\n",
            "dense_2 (Dense)              (None, 16)                272       \n",
            "_________________________________________________________________\n",
            "dense_3 (Dense)              (None, 1)                 17        \n",
            "=================================================================\n",
            "Total params: 160,289\n",
            "Trainable params: 160,289\n",
            "Non-trainable params: 0\n",
            "_________________________________________________________________\n"
          ],
          "name": "stdout"
        }
      ]
    },
    {
      "cell_type": "code",
      "metadata": {
        "id": "5Vz77R6BN2Vu",
        "colab_type": "code",
        "colab": {}
      },
      "source": [
        "model.compile(optimizer=\"adam\", loss=\"binary_crossentropy\", metrics=[\"accuracy\"])"
      ],
      "execution_count": 13,
      "outputs": []
    },
    {
      "cell_type": "code",
      "metadata": {
        "id": "axmW0s6BM0mB",
        "colab_type": "code",
        "colab": {}
      },
      "source": [
        "x_val = train_data[:10000]\n",
        "x_train = train_data[10000:]\n",
        "\n",
        "y_val = train_labels[:10000]\n",
        "y_train = train_labels[10000:]"
      ],
      "execution_count": 14,
      "outputs": []
    },
    {
      "cell_type": "code",
      "metadata": {
        "id": "nvwowfP6M9EI",
        "colab_type": "code",
        "colab": {
          "base_uri": "https://localhost:8080/",
          "height": 1000
        },
        "outputId": "c4f47453-1386-4dcb-f06c-2c41046ba32e"
      },
      "source": [
        "fitModel = model.fit(x_train, y_train, epochs=40, batch_size=512, validation_data=(x_val, y_val), verbose=1)"
      ],
      "execution_count": 15,
      "outputs": [
        {
          "output_type": "stream",
          "text": [
            "Epoch 1/40\n",
            "30/30 [==============================] - 1s 27ms/step - loss: 0.6918 - accuracy: 0.5672 - val_loss: 0.6896 - val_accuracy: 0.6333\n",
            "Epoch 2/40\n",
            "30/30 [==============================] - 1s 18ms/step - loss: 0.6842 - accuracy: 0.7201 - val_loss: 0.6786 - val_accuracy: 0.7290\n",
            "Epoch 3/40\n",
            "30/30 [==============================] - 1s 20ms/step - loss: 0.6679 - accuracy: 0.7536 - val_loss: 0.6585 - val_accuracy: 0.7595\n",
            "Epoch 4/40\n",
            "30/30 [==============================] - 1s 24ms/step - loss: 0.6403 - accuracy: 0.7805 - val_loss: 0.6283 - val_accuracy: 0.7726\n",
            "Epoch 5/40\n",
            "30/30 [==============================] - 1s 23ms/step - loss: 0.6016 - accuracy: 0.7977 - val_loss: 0.5882 - val_accuracy: 0.7940\n",
            "Epoch 6/40\n",
            "30/30 [==============================] - 1s 23ms/step - loss: 0.5547 - accuracy: 0.8207 - val_loss: 0.5435 - val_accuracy: 0.8093\n",
            "Epoch 7/40\n",
            "30/30 [==============================] - 1s 23ms/step - loss: 0.5050 - accuracy: 0.8363 - val_loss: 0.4990 - val_accuracy: 0.8256\n",
            "Epoch 8/40\n",
            "30/30 [==============================] - 1s 18ms/step - loss: 0.4572 - accuracy: 0.8539 - val_loss: 0.4580 - val_accuracy: 0.8366\n",
            "Epoch 9/40\n",
            "30/30 [==============================] - 1s 19ms/step - loss: 0.4139 - accuracy: 0.8682 - val_loss: 0.4235 - val_accuracy: 0.8460\n",
            "Epoch 10/40\n",
            "30/30 [==============================] - 1s 18ms/step - loss: 0.3772 - accuracy: 0.8777 - val_loss: 0.3956 - val_accuracy: 0.8543\n",
            "Epoch 11/40\n",
            "30/30 [==============================] - 1s 18ms/step - loss: 0.3466 - accuracy: 0.8877 - val_loss: 0.3736 - val_accuracy: 0.8579\n",
            "Epoch 12/40\n",
            "30/30 [==============================] - 1s 18ms/step - loss: 0.3207 - accuracy: 0.8925 - val_loss: 0.3545 - val_accuracy: 0.8664\n",
            "Epoch 13/40\n",
            "30/30 [==============================] - 1s 19ms/step - loss: 0.2985 - accuracy: 0.8999 - val_loss: 0.3402 - val_accuracy: 0.8706\n",
            "Epoch 14/40\n",
            "30/30 [==============================] - 1s 19ms/step - loss: 0.2800 - accuracy: 0.9045 - val_loss: 0.3282 - val_accuracy: 0.8757\n",
            "Epoch 15/40\n",
            "30/30 [==============================] - 1s 18ms/step - loss: 0.2633 - accuracy: 0.9096 - val_loss: 0.3188 - val_accuracy: 0.8767\n",
            "Epoch 16/40\n",
            "30/30 [==============================] - 1s 22ms/step - loss: 0.2485 - accuracy: 0.9145 - val_loss: 0.3110 - val_accuracy: 0.8795\n",
            "Epoch 17/40\n",
            "30/30 [==============================] - 1s 23ms/step - loss: 0.2350 - accuracy: 0.9192 - val_loss: 0.3047 - val_accuracy: 0.8808\n",
            "Epoch 18/40\n",
            "30/30 [==============================] - 1s 23ms/step - loss: 0.2231 - accuracy: 0.9235 - val_loss: 0.2994 - val_accuracy: 0.8817\n",
            "Epoch 19/40\n",
            "30/30 [==============================] - 1s 23ms/step - loss: 0.2119 - accuracy: 0.9269 - val_loss: 0.2958 - val_accuracy: 0.8818\n",
            "Epoch 20/40\n",
            "30/30 [==============================] - 1s 23ms/step - loss: 0.2020 - accuracy: 0.9305 - val_loss: 0.2921 - val_accuracy: 0.8843\n",
            "Epoch 21/40\n",
            "30/30 [==============================] - 1s 23ms/step - loss: 0.1925 - accuracy: 0.9362 - val_loss: 0.2904 - val_accuracy: 0.8843\n",
            "Epoch 22/40\n",
            "30/30 [==============================] - 1s 19ms/step - loss: 0.1835 - accuracy: 0.9395 - val_loss: 0.2883 - val_accuracy: 0.8837\n",
            "Epoch 23/40\n",
            "30/30 [==============================] - 1s 19ms/step - loss: 0.1758 - accuracy: 0.9436 - val_loss: 0.2875 - val_accuracy: 0.8844\n",
            "Epoch 24/40\n",
            "30/30 [==============================] - 1s 18ms/step - loss: 0.1677 - accuracy: 0.9461 - val_loss: 0.2857 - val_accuracy: 0.8858\n",
            "Epoch 25/40\n",
            "30/30 [==============================] - 1s 19ms/step - loss: 0.1604 - accuracy: 0.9499 - val_loss: 0.2875 - val_accuracy: 0.8845\n",
            "Epoch 26/40\n",
            "30/30 [==============================] - 1s 19ms/step - loss: 0.1540 - accuracy: 0.9521 - val_loss: 0.2855 - val_accuracy: 0.8862\n",
            "Epoch 27/40\n",
            "30/30 [==============================] - 1s 21ms/step - loss: 0.1471 - accuracy: 0.9551 - val_loss: 0.2870 - val_accuracy: 0.8859\n",
            "Epoch 28/40\n",
            "30/30 [==============================] - 1s 23ms/step - loss: 0.1413 - accuracy: 0.9574 - val_loss: 0.2867 - val_accuracy: 0.8867\n",
            "Epoch 29/40\n",
            "30/30 [==============================] - 1s 18ms/step - loss: 0.1351 - accuracy: 0.9597 - val_loss: 0.2877 - val_accuracy: 0.8862\n",
            "Epoch 30/40\n",
            "30/30 [==============================] - 1s 19ms/step - loss: 0.1294 - accuracy: 0.9622 - val_loss: 0.2895 - val_accuracy: 0.8861\n",
            "Epoch 31/40\n",
            "30/30 [==============================] - 1s 18ms/step - loss: 0.1244 - accuracy: 0.9647 - val_loss: 0.2918 - val_accuracy: 0.8861\n",
            "Epoch 32/40\n",
            "30/30 [==============================] - 1s 23ms/step - loss: 0.1198 - accuracy: 0.9652 - val_loss: 0.2931 - val_accuracy: 0.8867\n",
            "Epoch 33/40\n",
            "30/30 [==============================] - 1s 21ms/step - loss: 0.1143 - accuracy: 0.9679 - val_loss: 0.2954 - val_accuracy: 0.8841\n",
            "Epoch 34/40\n",
            "30/30 [==============================] - 1s 18ms/step - loss: 0.1101 - accuracy: 0.9693 - val_loss: 0.2976 - val_accuracy: 0.8850\n",
            "Epoch 35/40\n",
            "30/30 [==============================] - 1s 19ms/step - loss: 0.1057 - accuracy: 0.9712 - val_loss: 0.3010 - val_accuracy: 0.8833\n",
            "Epoch 36/40\n",
            "30/30 [==============================] - 1s 19ms/step - loss: 0.1017 - accuracy: 0.9732 - val_loss: 0.3035 - val_accuracy: 0.8835\n",
            "Epoch 37/40\n",
            "30/30 [==============================] - 1s 24ms/step - loss: 0.0972 - accuracy: 0.9748 - val_loss: 0.3063 - val_accuracy: 0.8834\n",
            "Epoch 38/40\n",
            "30/30 [==============================] - 1s 24ms/step - loss: 0.0934 - accuracy: 0.9765 - val_loss: 0.3103 - val_accuracy: 0.8822\n",
            "Epoch 39/40\n",
            "30/30 [==============================] - 1s 23ms/step - loss: 0.0899 - accuracy: 0.9773 - val_loss: 0.3130 - val_accuracy: 0.8829\n",
            "Epoch 40/40\n",
            "30/30 [==============================] - 1s 23ms/step - loss: 0.0862 - accuracy: 0.9796 - val_loss: 0.3167 - val_accuracy: 0.8817\n"
          ],
          "name": "stdout"
        }
      ]
    },
    {
      "cell_type": "code",
      "metadata": {
        "id": "ONPr1TXLM99B",
        "colab_type": "code",
        "colab": {
          "base_uri": "https://localhost:8080/",
          "height": 51
        },
        "outputId": "037a1d02-3138-4bc2-e0ae-93a62553ca29"
      },
      "source": [
        "results = model.evaluate(test_data, test_labels)\n",
        "print(results)"
      ],
      "execution_count": 16,
      "outputs": [
        {
          "output_type": "stream",
          "text": [
            "782/782 [==============================] - 1s 1ms/step - loss: 0.3387 - accuracy: 0.8701\n",
            "[0.33866143226623535, 0.8700799942016602]\n"
          ],
          "name": "stdout"
        }
      ]
    },
    {
      "cell_type": "code",
      "metadata": {
        "id": "XCIUxfxGFMS2",
        "colab_type": "code",
        "colab": {
          "base_uri": "https://localhost:8080/",
          "height": 122
        },
        "outputId": "42ec588d-412a-470f-d34f-350b8bd30921"
      },
      "source": [
        "test_review = test_data[0]\n",
        "predict = model.predict([test_review])\n",
        "print(\"Review:\", decode_review(test_review))\n",
        "print('0-Negative:  1-Possitive')\n",
        "print('Prediction', int(predict[0]))\n",
        "print(\"Actual:\", str(test_labels[0]))\n",
        "print(results)"
      ],
      "execution_count": 20,
      "outputs": [
        {
          "output_type": "stream",
          "text": [
            "Review: <START> please give this one a miss br br <UNK> <UNK> and the rest of the cast rendered terrible performances the show is flat flat flat br br i don't know how michael madison could have allowed this one on his plate he almost seemed to know this wasn't going to work out and his performance was quite <UNK> so all you madison fans give this a miss <PAD> <PAD> <PAD> <PAD> <PAD> <PAD> <PAD> <PAD> <PAD> <PAD> <PAD> <PAD> <PAD> <PAD> <PAD> <PAD> <PAD> <PAD> <PAD> <PAD> <PAD> <PAD> <PAD> <PAD> <PAD> <PAD> <PAD> <PAD> <PAD> <PAD> <PAD> <PAD> <PAD> <PAD> <PAD> <PAD> <PAD> <PAD> <PAD> <PAD> <PAD> <PAD> <PAD> <PAD> <PAD> <PAD> <PAD> <PAD> <PAD> <PAD> <PAD> <PAD> <PAD> <PAD> <PAD> <PAD> <PAD> <PAD> <PAD> <PAD> <PAD> <PAD> <PAD> <PAD> <PAD> <PAD> <PAD> <PAD> <PAD> <PAD> <PAD> <PAD> <PAD> <PAD> <PAD> <PAD> <PAD> <PAD> <PAD> <PAD> <PAD> <PAD> <PAD> <PAD> <PAD> <PAD> <PAD> <PAD> <PAD> <PAD> <PAD> <PAD> <PAD> <PAD> <PAD> <PAD> <PAD> <PAD> <PAD> <PAD> <PAD> <PAD> <PAD> <PAD> <PAD> <PAD> <PAD> <PAD> <PAD> <PAD> <PAD> <PAD> <PAD> <PAD> <PAD> <PAD> <PAD> <PAD> <PAD> <PAD> <PAD> <PAD> <PAD> <PAD> <PAD> <PAD> <PAD> <PAD> <PAD> <PAD> <PAD> <PAD> <PAD> <PAD> <PAD> <PAD> <PAD> <PAD> <PAD> <PAD> <PAD> <PAD> <PAD> <PAD> <PAD> <PAD> <PAD> <PAD> <PAD> <PAD> <PAD> <PAD> <PAD> <PAD> <PAD> <PAD> <PAD> <PAD> <PAD> <PAD> <PAD> <PAD> <PAD> <PAD> <PAD> <PAD> <PAD> <PAD> <PAD> <PAD> <PAD> <PAD> <PAD> <PAD> <PAD> <PAD> <PAD> <PAD> <PAD> <PAD> <PAD> <PAD>\n",
            "0-Negative:  1-Possitive\n",
            "Prediction 0\n",
            "Actual: 0\n",
            "[0.33866143226623535, 0.8700799942016602]\n"
          ],
          "name": "stdout"
        }
      ]
    }
  ]
}